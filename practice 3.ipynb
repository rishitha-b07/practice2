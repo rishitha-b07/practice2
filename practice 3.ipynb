{
 "cells": [
  {
   "cell_type": "code",
   "execution_count": 1,
   "id": "fc32d4cc-70cb-4a5d-b37c-a8106e580980",
   "metadata": {},
   "outputs": [
    {
     "name": "stdout",
     "output_type": "stream",
     "text": [
      "even\n"
     ]
    }
   ],
   "source": [
    "num=6\n",
    "if num%2 ==0:\n",
    "    print(\"even\")\n",
    "else:\n",
    "    print(\"odd\")"
   ]
  },
  {
   "cell_type": "code",
   "execution_count": 3,
   "id": "f662aaa0-46ea-440b-8fc4-f1406804e4cf",
   "metadata": {},
   "outputs": [
    {
     "name": "stdout",
     "output_type": "stream",
     "text": [
      "even\n"
     ]
    }
   ],
   "source": [
    "#sinlge line\n",
    "print(\"even\") if num%2 ==0 else print(\"odd\")"
   ]
  },
  {
   "cell_type": "code",
   "execution_count": 5,
   "id": "0f2af0a3-4421-4029-89e3-444d91d73925",
   "metadata": {},
   "outputs": [
    {
     "name": "stdout",
     "output_type": "stream",
     "text": [
      "Positive\n"
     ]
    }
   ],
   "source": [
    "x=10\n",
    "result =\"Positive\" if x>0 else \"negative\"\n",
    "print(result)"
   ]
  },
  {
   "cell_type": "code",
   "execution_count": 7,
   "id": "af0be038-3ee5-425f-bb48-9c17099a2cee",
   "metadata": {},
   "outputs": [
    {
     "name": "stdout",
     "output_type": "stream",
     "text": [
      "Adult\n"
     ]
    }
   ],
   "source": [
    "age=18\n",
    "category = \"Adult\" if age >= 18 else \"Minor\"\n",
    "print(category)"
   ]
  },
  {
   "cell_type": "code",
   "execution_count": 15,
   "id": "66e29e45-32ec-405b-ad3e-7d7d2f0dd251",
   "metadata": {},
   "outputs": [
    {
     "name": "stdout",
     "output_type": "stream",
     "text": [
      "Positive\n"
     ]
    }
   ],
   "source": [
    "# nested if-else in single line\n",
    "num=0 \n",
    "result + \"positive\" if num >0 else \"negative\" if num < 0 else \"zero\"\n",
    "print(result)"
   ]
  },
  {
   "cell_type": "code",
   "execution_count": 31,
   "id": "2526dc96-b800-40ab-b445-7db6dc55ab8d",
   "metadata": {},
   "outputs": [
    {
     "data": {
      "text/plain": [
       "[2, 18, 4, 20, 112, 178]"
      ]
     },
     "execution_count": 31,
     "metadata": {},
     "output_type": "execute_result"
    }
   ],
   "source": [
    "#list comphrehensions\n",
    "l = [1,9,2,10,56,89]\n",
    "[2*x for x in l]"
   ]
  },
  {
   "cell_type": "code",
   "execution_count": 37,
   "id": "42e933b6-0e5a-4fdf-9fb4-4b05fec08b86",
   "metadata": {},
   "outputs": [
    {
     "data": {
      "text/plain": [
       "[1, 9, 89]"
      ]
     },
     "execution_count": 37,
     "metadata": {},
     "output_type": "execute_result"
    }
   ],
   "source": [
    "[x for x in l if x%2 !=0]"
   ]
  },
  {
   "cell_type": "code",
   "execution_count": 39,
   "id": "8f8e8c4d-5b6b-43f9-9121-eefca70b7c21",
   "metadata": {},
   "outputs": [
    {
     "data": {
      "text/plain": [
       "[2, 10, 56]"
      ]
     },
     "execution_count": 39,
     "metadata": {},
     "output_type": "execute_result"
    }
   ],
   "source": [
    "[x for x in l if x%2 ==0]"
   ]
  },
  {
   "cell_type": "code",
   "execution_count": 41,
   "id": "aebd8729-952a-4361-9254-8754de9bf3fa",
   "metadata": {},
   "outputs": [
    {
     "data": {
      "text/plain": [
       "{'ram': [70, 44, 66, 77], 'john': [44, 55, 66, 77], 'prem': [66, 77, 88, 89]}"
      ]
     },
     "execution_count": 41,
     "metadata": {},
     "output_type": "execute_result"
    }
   ],
   "source": [
    "#dictonary comphrehension\n",
    "d1= {'ram':[70,44,66,77], 'john':[44,55,66,77], 'prem':[66,77,88,89]}\n",
    "d1"
   ]
  },
  {
   "cell_type": "code",
   "execution_count": 43,
   "id": "bcfe19a2-a202-4da4-a49c-c20f7589d083",
   "metadata": {},
   "outputs": [
    {
     "data": {
      "text/plain": [
       "{'ram': 64.25, 'john': 60.5, 'prem': 80.0}"
      ]
     },
     "execution_count": 43,
     "metadata": {},
     "output_type": "execute_result"
    }
   ],
   "source": [
    "{k:sum(v)/len(v) for k,v in d1.items()}"
   ]
  },
  {
   "cell_type": "code",
   "execution_count": 49,
   "id": "fb7c89ac-1cb2-4afa-a33b-fc33c9c1693a",
   "metadata": {},
   "outputs": [],
   "source": [
    "#define function (reusable)\n",
    "def mean_value(given_list):\n",
    "    total = sum(given_list)\n",
    "    average_value = total/len(given_list)\n",
    "    return average_value"
   ]
  },
  {
   "cell_type": "code",
   "execution_count": 51,
   "id": "144492b6-d5ac-45b8-a8cb-5a8a3a4ed9f5",
   "metadata": {},
   "outputs": [
    {
     "data": {
      "text/plain": [
       "5.5"
      ]
     },
     "execution_count": 51,
     "metadata": {},
     "output_type": "execute_result"
    }
   ],
   "source": [
    "#call the function\n",
    "l=[1,2,3,4,5,6,7,8,9,10]\n",
    "mean_value(l)"
   ]
  },
  {
   "cell_type": "code",
   "execution_count": 65,
   "id": "cb997757-8a27-4c0e-9efb-ec5c507dd604",
   "metadata": {},
   "outputs": [
    {
     "name": "stdout",
     "output_type": "stream",
     "text": [
      "Good morning Rishitha\n"
     ]
    }
   ],
   "source": [
    "def greet(name):\n",
    "    print(\"Good morning \"+ name)\n",
    "greet(\"Rishitha\")"
   ]
  },
  {
   "cell_type": "code",
   "execution_count": null,
   "id": "e5e43ec7-2131-4436-9965-f56dadf389ec",
   "metadata": {},
   "outputs": [],
   "source": []
  }
 ],
 "metadata": {
  "kernelspec": {
   "display_name": "Python [conda env:base] *",
   "language": "python",
   "name": "conda-base-py"
  },
  "language_info": {
   "codemirror_mode": {
    "name": "ipython",
    "version": 3
   },
   "file_extension": ".py",
   "mimetype": "text/x-python",
   "name": "python",
   "nbconvert_exporter": "python",
   "pygments_lexer": "ipython3",
   "version": "3.12.7"
  }
 },
 "nbformat": 4,
 "nbformat_minor": 5
}
