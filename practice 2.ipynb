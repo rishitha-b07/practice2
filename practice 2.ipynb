{
 "cells": [
  {
   "cell_type": "code",
   "execution_count": 45,
   "id": "b77ac3db-6416-4f9e-bf0c-653d930e59ed",
   "metadata": {},
   "outputs": [
    {
     "name": "stdout",
     "output_type": "stream",
     "text": [
      "{1, 2, 3, 4} {3, 4, 5, 6}\n"
     ]
    }
   ],
   "source": [
    "#sets\n",
    "s1={1,2,3,4}\n",
    "s2={3,4,5,6}\n",
    "print(s1,s2)"
   ]
  },
  {
   "cell_type": "code",
   "execution_count": 23,
   "id": "cdaf2147-fb01-4126-9bdc-1c28885e9f79",
   "metadata": {},
   "outputs": [
    {
     "data": {
      "text/plain": [
       "{1, 2, 3, 4, 5, 6}"
      ]
     },
     "execution_count": 23,
     "metadata": {},
     "output_type": "execute_result"
    }
   ],
   "source": [
    "#union operations\n",
    "s1|s2\n",
    "s1.union(s2)"
   ]
  },
  {
   "cell_type": "code",
   "execution_count": 25,
   "id": "84f9e1ce-d1f8-4744-a878-6aa28b855a84",
   "metadata": {},
   "outputs": [
    {
     "data": {
      "text/plain": [
       "{3, 4}"
      ]
     },
     "execution_count": 25,
     "metadata": {},
     "output_type": "execute_result"
    }
   ],
   "source": [
    "#intersection\n",
    "s1 & s2"
   ]
  },
  {
   "cell_type": "code",
   "execution_count": 27,
   "id": "3f003bd5-ec15-4abc-83f8-7aae8b06172c",
   "metadata": {},
   "outputs": [
    {
     "data": {
      "text/plain": [
       "{1, 2}"
      ]
     },
     "execution_count": 27,
     "metadata": {},
     "output_type": "execute_result"
    }
   ],
   "source": [
    "#differnce of two sets\n",
    "s1 - s2"
   ]
  },
  {
   "cell_type": "code",
   "execution_count": 31,
   "id": "4a37a4dc-dbda-4413-95f3-1d6f41a8d432",
   "metadata": {},
   "outputs": [
    {
     "data": {
      "text/plain": [
       "{1, 2, 5, 6}"
      ]
     },
     "execution_count": 31,
     "metadata": {},
     "output_type": "execute_result"
    }
   ],
   "source": [
    "#sysmmetric difference\n",
    "s1.symmetric_difference(s2)"
   ]
  },
  {
   "cell_type": "code",
   "execution_count": 33,
   "id": "15917453-580d-4f3a-86b7-6f4bf187d343",
   "metadata": {},
   "outputs": [
    {
     "name": "stdout",
     "output_type": "stream",
     "text": [
      "Welcome to AIML class\n",
      "we started with python\n",
      "This is an awesome class\n"
     ]
    }
   ],
   "source": [
    "#strings\n",
    "str1=\"Welcome to AIML class\"\n",
    "print(str1)\n",
    "str2=\"we started with python\"\n",
    "print(str2)\n",
    "str3=\"This is an awesome class\"\n",
    "print(str3)"
   ]
  },
  {
   "cell_type": "code",
   "execution_count": 49,
   "id": "ea5c2b60-8797-4315-a016-10b661ca8f7b",
   "metadata": {},
   "outputs": [
    {
     "name": "stdout",
     "output_type": "stream",
     "text": [
      "He said \"It's awesome!\"\n"
     ]
    }
   ],
   "source": [
    "str4='''He said \"It's awesome!\"'''\n",
    "print(str4)"
   ]
  },
  {
   "cell_type": "code",
   "execution_count": 69,
   "id": "b324247b-8215-4320-a5e2-27257ddb1c98",
   "metadata": {},
   "outputs": [
    {
     "name": "stdout",
     "output_type": "stream",
     "text": [
      "Welcome to AIML class\n"
     ]
    },
    {
     "data": {
      "text/plain": [
       "'come to'"
      ]
     },
     "execution_count": 69,
     "metadata": {},
     "output_type": "execute_result"
    }
   ],
   "source": [
    "#slicing\n",
    "print(str1)\n",
    "str1[3:10]"
   ]
  },
  {
   "cell_type": "code",
   "execution_count": 71,
   "id": "e73779b7-8970-4a72-8d49-e9150f15519f",
   "metadata": {},
   "outputs": [
    {
     "data": {
      "text/plain": [
       "'nohtyp htiw detrats ew'"
      ]
     },
     "execution_count": 71,
     "metadata": {},
     "output_type": "execute_result"
    }
   ],
   "source": [
    "#reverse a string\n",
    "str2[::-1]"
   ]
  },
  {
   "cell_type": "code",
   "execution_count": 73,
   "id": "12b61cbd-43cf-4638-af17-f81145e5db28",
   "metadata": {},
   "outputs": [
    {
     "data": {
      "text/plain": [
       "['Welcome', 'to', 'AIML', 'class']"
      ]
     },
     "execution_count": 73,
     "metadata": {},
     "output_type": "execute_result"
    }
   ],
   "source": [
    "#splitting\n",
    "str1.split()"
   ]
  },
  {
   "cell_type": "code",
   "execution_count": 87,
   "id": "52b412b0-fdfa-4525-89ba-34aa5e0045dc",
   "metadata": {},
   "outputs": [
    {
     "data": {
      "text/plain": [
       "'product is awesome, Great service'"
      ]
     },
     "execution_count": 87,
     "metadata": {},
     "output_type": "execute_result"
    }
   ],
   "source": [
    "#joining\n",
    "review=[\"product is awesome, \", \"Great service\"]\n",
    "''.join(review)"
   ]
  },
  {
   "cell_type": "code",
   "execution_count": 95,
   "id": "cce0ab31-50c1-42a7-997f-6742f634eaa2",
   "metadata": {},
   "outputs": [
    {
     "name": "stdout",
     "output_type": "stream",
     "text": [
      "              woahhhhhhhhh!!       \n"
     ]
    },
    {
     "data": {
      "text/plain": [
       "'woahhhhhhhhh!!'"
      ]
     },
     "execution_count": 95,
     "metadata": {},
     "output_type": "execute_result"
    }
   ],
   "source": [
    "#strip method(removes empty spaces)\n",
    "str5=\"              woahhhhhhhhh!!       \"\n",
    "print(str5)\n",
    "str5.strip()"
   ]
  },
  {
   "cell_type": "code",
   "execution_count": 107,
   "id": "c9f29ff2-845a-4ef1-9c41-7a9d1e0c892f",
   "metadata": {},
   "outputs": [],
   "source": [
    "# Example dictionary for product sales analysis\n",
    "sales_data = {\n",
    "    \"ProductID\": [101, 102, 103, 104, 105, 106, 107, 108, 109, 110],\n",
    "    \"ProductName\": [\"Laptop\", \"Mouse\", \"Keyboard\", \"Monitor\", \"Chair\", \"Desk\", \"Webcam\", \"Headphones\", \"Printer\", \"Tablet\"],\n",
    "    \"Category\": [\"Electronics\", \"Accessories\", \"Accessories\", \"Electronics\", \"Furniture\", \"Furniture\", \"Electronics\", \"Accessories\", \"Electronics\", \"Electronics\"],\n",
    "    \"PriceRange\": [\"High\", \"Low\", \"Low\", \"Medium\", \"Medium\", \"Medium\", \"Low\", \"Low\", \"Medium\", \"High\"],\n",
    "    \"StockAvailable\": [15, 100, 75, 20, 10, 8, 50, 60, 25, 12],\n",
    "}"
   ]
  },
  {
   "cell_type": "code",
   "execution_count": 109,
   "id": "f0cec056-1c80-402d-8dd0-bc1782c119e2",
   "metadata": {},
   "outputs": [
    {
     "name": "stdout",
     "output_type": "stream",
     "text": [
      "ProductID {101, 102, 103, 104, 105, 106, 107, 108, 109, 110},/n\n",
      "ProductName {'Laptop', 'Keyboard', 'Mouse', 'Printer', 'Chair', 'Tablet', 'Monitor', 'Desk', 'Headphones', 'Webcam'},/n\n",
      "Category {'Electronics', 'Furniture', 'Accessories'},/n\n",
      "PriceRange {'High', 'Low', 'Medium'},/n\n",
      "StockAvailable {100, 8, 10, 75, 12, 15, 50, 20, 25, 60},/n\n"
     ]
    }
   ],
   "source": [
    "for k,v in sales_data.items():\n",
    "    print(k,set(v), end =',')\n",
    "    print('/n')"
   ]
  },
  {
   "cell_type": "code",
   "execution_count": 115,
   "id": "96aab7b0-89cd-43ac-a187-0daec5f28ce8",
   "metadata": {},
   "outputs": [],
   "source": [
    "d1 = {\"Ram\":180,\"Shyam\":170,\"ramya\":176}\n"
   ]
  },
  {
   "cell_type": "code",
   "execution_count": 117,
   "id": "e5906218-23e6-4e47-917b-3afb1cf341a4",
   "metadata": {},
   "outputs": [
    {
     "name": "stdout",
     "output_type": "stream",
     "text": [
      "Ram\n",
      "Shyam\n",
      "ramya\n"
     ]
    }
   ],
   "source": [
    "for k in d1.keys():\n",
    "    print(k)"
   ]
  },
  {
   "cell_type": "code",
   "execution_count": 123,
   "id": "cb0f8dc7-c416-4d9a-bc2d-dbf18b90143d",
   "metadata": {},
   "outputs": [
    {
     "name": "stdout",
     "output_type": "stream",
     "text": [
      "180\n",
      "170\n",
      "176\n"
     ]
    }
   ],
   "source": [
    "for v in d1.values():\n",
    "    print(v)"
   ]
  },
  {
   "cell_type": "code",
   "execution_count": 125,
   "id": "68c3455b-c4e8-4dd8-ad0b-e6d09be2a263",
   "metadata": {},
   "outputs": [
    {
     "name": "stdout",
     "output_type": "stream",
     "text": [
      "Ram 180\n",
      "Shyam 170\n",
      "ramya 176\n"
     ]
    }
   ],
   "source": [
    "for k,v in d1.items():\n",
    "    print(k,v)"
   ]
  },
  {
   "cell_type": "code",
   "execution_count": null,
   "id": "87e2c106-43d1-4dba-9b0e-b88e5c1e5762",
   "metadata": {},
   "outputs": [],
   "source": []
  }
 ],
 "metadata": {
  "kernelspec": {
   "display_name": "Python [conda env:base] *",
   "language": "python",
   "name": "conda-base-py"
  },
  "language_info": {
   "codemirror_mode": {
    "name": "ipython",
    "version": 3
   },
   "file_extension": ".py",
   "mimetype": "text/x-python",
   "name": "python",
   "nbconvert_exporter": "python",
   "pygments_lexer": "ipython3",
   "version": "3.12.7"
  }
 },
 "nbformat": 4,
 "nbformat_minor": 5
}
