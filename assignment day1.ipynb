{
 "cells": [
  {
   "cell_type": "code",
   "execution_count": 5,
   "id": "7a1cbb31-4b5c-49ce-8a27-812e9e26b8b1",
   "metadata": {},
   "outputs": [],
   "source": [
    "#Write a program in Jupyter Notebook to declare variables of different data types (integer, float, string, and boolean). Print each variable and its type."
   ]
  },
  {
   "cell_type": "code",
   "execution_count": 7,
   "id": "6da471af-99e3-4e1a-be87-e074bc08daa8",
   "metadata": {},
   "outputs": [
    {
     "name": "stdout",
     "output_type": "stream",
     "text": [
      "Integer: 165, Type: <class 'int'>\n",
      "Float: 10.09, Type: <class 'float'>\n",
      "String: Welcome to MRU, Type: <class 'str'>\n",
      "Boolean Variable: False, Type: <class 'bool'>\n"
     ]
    }
   ],
   "source": [
    "a = 165                # Integer type\n",
    "b = 10.09                # Float type\n",
    "c = \"Welcome to MRU\"    # String type\n",
    "d = False              # Boolean type\n",
    "print(f\"Integer: {a}, Type: {type(a)}\")\n",
    "print(f\"Float: {b}, Type: {type(b)}\")\n",
    "print(f\"String: {c}, Type: {type(c)}\")\n",
    "print(f\"Boolean Variable: {d}, Type: {type(d)}\")"
   ]
  }
 ],
 "metadata": {
  "kernelspec": {
   "display_name": "Python [conda env:base] *",
   "language": "python",
   "name": "conda-base-py"
  },
  "language_info": {
   "codemirror_mode": {
    "name": "ipython",
    "version": 3
   },
   "file_extension": ".py",
   "mimetype": "text/x-python",
   "name": "python",
   "nbconvert_exporter": "python",
   "pygments_lexer": "ipython3",
   "version": "3.12.7"
  }
 },
 "nbformat": 4,
 "nbformat_minor": 5
}
