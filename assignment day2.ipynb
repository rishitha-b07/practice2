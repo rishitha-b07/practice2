{
 "cells": [
  {
   "cell_type": "code",
   "execution_count": 1,
   "id": "5e38bebb-1ed5-4b90-aa14-98bfba77ca7f",
   "metadata": {},
   "outputs": [],
   "source": [
    "#Create a List, tuple and Dictionary with 5 elements in it and how to access few elements based on the index. Try  with different examples \n"
   ]
  },
  {
   "cell_type": "code",
   "execution_count": null,
   "id": "4a5f0cc3-97da-4f22-9e16-c1ae1640441a",
   "metadata": {},
   "outputs": [],
   "source": [
    "list1 = [10, 20, 30, 40, 50] \n",
    "tuple1 = (100, 200, 300, 400, 500) \n",
    "dict1 = {\"apple\": 1, \"banana\": 2, \"cherry\": 3, \"date\": 4, \"elderberry\": 5} \n",
    "print(f\"Accessing element at index 2 in List: {my_list[2]}\")\n",
    "print(f\"Accessing element at index 4 in Tuple: {my_tuple[4]}\")\n",
    "print(f\"Accessing the last element of List: {my_list[-1]}\")\n",
    "print(f\"Accessing the second last element in Tuple: {my_tuple[-2]}\")\n",
    "print(f\"Accessing value for 'apple' in Dictionary: {my_dict['apple']}\")\n",
    "print(f\"Accessing value for 'cherry' in Dictionary: {my_dict['cherry']}\") \n",
    "print(f\"Slicing elements from index 1 to 3 in List: {my_list[1:4]}\")\n",
    "print(f\"Slicing elements from index 0 to 2 in Tuple: {my_tuple[:3]}\")"
   ]
  },
  {
   "cell_type": "code",
   "execution_count": null,
   "id": "74c4e98b-a346-4d03-863e-966d61916b6e",
   "metadata": {},
   "outputs": [],
   "source": []
  }
 ],
 "metadata": {
  "kernelspec": {
   "display_name": "Python [conda env:base] *",
   "language": "python",
   "name": "conda-base-py"
  },
  "language_info": {
   "codemirror_mode": {
    "name": "ipython",
    "version": 3
   },
   "file_extension": ".py",
   "mimetype": "text/x-python",
   "name": "python",
   "nbconvert_exporter": "python",
   "pygments_lexer": "ipython3",
   "version": "3.12.7"
  }
 },
 "nbformat": 4,
 "nbformat_minor": 5
}
