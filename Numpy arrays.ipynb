{
 "cells": [
  {
   "cell_type": "code",
   "execution_count": 3,
   "id": "040f47ea-222e-46de-9efc-eae7ec76b21f",
   "metadata": {},
   "outputs": [
    {
     "name": "stdout",
     "output_type": "stream",
     "text": [
      "[45 67 57 60]\n",
      "<class 'numpy.ndarray'>\n",
      "int32\n"
     ]
    }
   ],
   "source": [
    "import numpy as np\n",
    "x=np.array([45,67,57,60])\n",
    "print(x)\n",
    "print(type(x))\n",
    "print(x.dtype)"
   ]
  },
  {
   "cell_type": "code",
   "execution_count": 7,
   "id": "2437c3ae-53d2-4af8-a58d-0f2ff422e60e",
   "metadata": {},
   "outputs": [
    {
     "name": "stdout",
     "output_type": "stream",
     "text": [
      "[[20 40]\n",
      " [30 60]]\n",
      "<class 'numpy.ndarray'>\n",
      "int32\n"
     ]
    }
   ],
   "source": [
    "a2=np.array([[20,40],[30,60]])\n",
    "print(a2)\n",
    "print(type(a2))\n",
    "print(a2.dtype)"
   ]
  },
  {
   "cell_type": "code",
   "execution_count": 13,
   "id": "e8e1442a-8031-4d80-babe-c3423ca409ba",
   "metadata": {},
   "outputs": [
    {
     "name": "stdout",
     "output_type": "stream",
     "text": [
      "[[10 20]\n",
      " [30 40]]\n",
      "(2, 2)\n"
     ]
    }
   ],
   "source": [
    "#reshaping an array using reshape()\n",
    "a=np.array([10,20,30,40])\n",
    "b=a.reshape(2,2)\n",
    "print(b)\n",
    "print(b.shape)"
   ]
  },
  {
   "cell_type": "code",
   "execution_count": 17,
   "id": "d27f2730-da03-4f5a-99fc-d3b18c54095e",
   "metadata": {},
   "outputs": [
    {
     "name": "stdout",
     "output_type": "stream",
     "text": [
      "[3 4 5 6 7 8 9]\n"
     ]
    },
    {
     "data": {
      "text/plain": [
       "numpy.ndarray"
      ]
     },
     "execution_count": 17,
     "metadata": {},
     "output_type": "execute_result"
    }
   ],
   "source": [
    "#create an array with arrange()\n",
    "c=np.arange(3,10)\n",
    "print(c)\n",
    "type(c)"
   ]
  },
  {
   "cell_type": "code",
   "execution_count": 21,
   "id": "81a44d1e-b09c-4711-934a-1b0e315a9ad1",
   "metadata": {},
   "outputs": [
    {
     "name": "stdout",
     "output_type": "stream",
     "text": [
      "[ 9 20 30 40  0]\n",
      "[3.   4.47 5.48 6.32 0.  ]\n"
     ]
    }
   ],
   "source": [
    "#use of np.sqrt()\n",
    "d=np.array([9,20,30,40,0])\n",
    "print(d)\n",
    "print(np.around(np.sqrt(d),2))"
   ]
  },
  {
   "cell_type": "code",
   "execution_count": 31,
   "id": "5109548d-5fdd-4ff2-b530-c733f7aca378",
   "metadata": {},
   "outputs": [
    {
     "name": "stdout",
     "output_type": "stream",
     "text": [
      "[[ 3.  4.  5.  8.]\n",
      " [ 7.  2.  8. nan]]\n"
     ]
    },
    {
     "data": {
      "text/plain": [
       "dtype('float64')"
      ]
     },
     "execution_count": 31,
     "metadata": {},
     "output_type": "execute_result"
    }
   ],
   "source": [
    "a1=np.array([[3,4,5,8],[7,2,8,np.NaN]])\n",
    "print(a1)\n",
    "a1.dtype"
   ]
  },
  {
   "cell_type": "code",
   "execution_count": 37,
   "id": "9883d413-210b-49e3-b9e7-70a5e5162455",
   "metadata": {},
   "outputs": [
    {
     "data": {
      "text/plain": [
       "array([12, 15, 12])"
      ]
     },
     "execution_count": 37,
     "metadata": {},
     "output_type": "execute_result"
    }
   ],
   "source": [
    "#mathematical operations on rows n columns\n",
    "a2=np.array([[3,4,5],[4,5,6],[3,4,5]])\n",
    "a2.sum(axis=1)"
   ]
  },
  {
   "cell_type": "code",
   "execution_count": 43,
   "id": "e56bead0-5eed-4ece-9cba-ae52568e3094",
   "metadata": {},
   "outputs": [
    {
     "name": "stdout",
     "output_type": "stream",
     "text": [
      "[[3 4 5]\n",
      " [4 5 6]\n",
      " [3 4 5]]\n",
      "\n",
      "[[0 4 5]\n",
      " [4 0 6]\n",
      " [3 4 0]]\n"
     ]
    }
   ],
   "source": [
    "a3=np.array([[3,4,5],[4,5,6],[3,4,5]])\n",
    "print(a3)\n",
    "print()\n",
    "np.fill_diagonal(a3,0)\n",
    "print(a3)"
   ]
  },
  {
   "cell_type": "code",
   "execution_count": 45,
   "id": "d7e5acfe-45b2-47dd-b65a-ba4e39720ed1",
   "metadata": {},
   "outputs": [
    {
     "name": "stdout",
     "output_type": "stream",
     "text": [
      "[[3 4 3]\n",
      " [4 5 4]\n",
      " [5 6 5]]\n"
     ]
    }
   ],
   "source": [
    "#transpose of matrices\n",
    "print(a2.T)"
   ]
  },
  {
   "cell_type": "code",
   "execution_count": 51,
   "id": "b42c2766-9fa1-4653-a87f-950d2030486c",
   "metadata": {},
   "outputs": [
    {
     "data": {
      "text/plain": [
       "array([[31, 32, 39],\n",
       "       [38, 40, 50],\n",
       "       [31, 32, 39]])"
      ]
     },
     "execution_count": 51,
     "metadata": {},
     "output_type": "execute_result"
    }
   ],
   "source": [
    "#multiplying\n",
    "c=np.matmul(a2,a3)\n",
    "c"
   ]
  },
  {
   "cell_type": "code",
   "execution_count": 53,
   "id": "9ad08228-0c07-4d4d-9815-834fd541af45",
   "metadata": {},
   "outputs": [
    {
     "data": {
      "text/plain": [
       "array([[2, 3, 4],\n",
       "       [4, 5, 6],\n",
       "       [7, 8, 9],\n",
       "       [9, 0, 1]])"
      ]
     },
     "execution_count": 53,
     "metadata": {},
     "output_type": "execute_result"
    }
   ],
   "source": [
    "#accessing the array elements\n",
    "a4=np.array([[2,3,4],[4,5,6],[7,8,9],[9,0,1]])\n",
    "a4"
   ]
  },
  {
   "cell_type": "code",
   "execution_count": 67,
   "id": "d54d446f-f994-4fea-b5ef-1970f4eb61ca",
   "metadata": {},
   "outputs": [
    {
     "data": {
      "text/plain": [
       "9"
      ]
     },
     "execution_count": 67,
     "metadata": {},
     "output_type": "execute_result"
    }
   ],
   "source": [
    "a4[2,2]"
   ]
  },
  {
   "cell_type": "code",
   "execution_count": null,
   "id": "39d33372-8806-4556-b8e6-ae2cd8ae0e2d",
   "metadata": {},
   "outputs": [],
   "source": [
    "print(np.amax(a3, axis =1))\n",
    "print(np.amax(a3,axis =0))"
   ]
  }
 ],
 "metadata": {
  "kernelspec": {
   "display_name": "Python [conda env:base] *",
   "language": "python",
   "name": "conda-base-py"
  },
  "language_info": {
   "codemirror_mode": {
    "name": "ipython",
    "version": 3
   },
   "file_extension": ".py",
   "mimetype": "text/x-python",
   "name": "python",
   "nbconvert_exporter": "python",
   "pygments_lexer": "ipython3",
   "version": "3.12.7"
  }
 },
 "nbformat": 4,
 "nbformat_minor": 5
}
