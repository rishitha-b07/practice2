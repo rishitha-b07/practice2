{
 "cells": [
  {
   "cell_type": "markdown",
   "id": "a1cdb2c1-c4c9-4fdc-8b6e-32849ecfa81f",
   "metadata": {},
   "source": [
    "Write a Python program that takes a student's marks in three subjects as input.#If the average is greater than or equal to 90, print \"Grade: A\".\n",
    "If the average is between 80 and 89, print \"Grade: B\".\n",
    "If the average is between 70 and 79, print \"Grade: C\".\n",
    "Otherwise, print \"Grade: Fail\"."
   ]
  },
  {
   "cell_type": "code",
   "execution_count": 15,
   "id": "7323ca22-fb62-4542-8639-e1a3c23ca6d8",
   "metadata": {},
   "outputs": [
    {
     "name": "stdin",
     "output_type": "stream",
     "text": [
      "Enter marks for mathematics:  90\n",
      "Enter marks for english:  98\n",
      "Enter marks for science:  99\n"
     ]
    },
    {
     "name": "stdout",
     "output_type": "stream",
     "text": [
      "Grade: A\n"
     ]
    }
   ],
   "source": [
    "mathematics = float(input(\"Enter marks for mathematics: \"))\n",
    "english = float(input(\"Enter marks for english: \"))\n",
    "science = float(input(\"Enter marks for science: \"))\n",
    "\n",
    "average = (mathematics + english + science) / 3\n",
    "if average >= 90:\n",
    "    print(\"Grade: A\")\n",
    "elif 80 <= average < 90:\n",
    "    print(\"Grade: B\")\n",
    "elif 70 <= average < 80:\n",
    "    print(\"Grade: C\")\n",
    "else:\n",
    "    print(\"Grade: Fail\")"
   ]
  },
  {
   "cell_type": "code",
   "execution_count": null,
   "id": "4eb922f2-c129-4bab-9501-8e4650379735",
   "metadata": {},
   "outputs": [],
   "source": []
  }
 ],
 "metadata": {
  "kernelspec": {
   "display_name": "Python [conda env:base] *",
   "language": "python",
   "name": "conda-base-py"
  },
  "language_info": {
   "codemirror_mode": {
    "name": "ipython",
    "version": 3
   },
   "file_extension": ".py",
   "mimetype": "text/x-python",
   "name": "python",
   "nbconvert_exporter": "python",
   "pygments_lexer": "ipython3",
   "version": "3.12.7"
  }
 },
 "nbformat": 4,
 "nbformat_minor": 5
}
